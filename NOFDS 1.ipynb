{
 "cells": [
  {
   "cell_type": "code",
   "execution_count": 1,
   "id": "ab4f2126",
   "metadata": {},
   "outputs": [],
   "source": [
    "import numpy as np"
   ]
  },
  {
   "cell_type": "code",
   "execution_count": 2,
   "id": "84e1c693",
   "metadata": {},
   "outputs": [],
   "source": [
    "#functions of Q1A\n",
    "def question_oneA(x):\n",
    "    return x**2-x-1\n",
    "\n",
    "def df_oneA(x):\n",
    "    return 2*x-1\n"
   ]
  },
  {
   "cell_type": "code",
   "execution_count": 3,
   "id": "90ec78ab",
   "metadata": {},
   "outputs": [],
   "source": [
    "#functions of Q1B\n",
    "def question_oneB(x):\n",
    "    return x**3-7*x**2+8*x-3\n",
    "\n",
    "def df_oneB(x):\n",
    "    return 3*x**2-14*x+8"
   ]
  },
  {
   "cell_type": "code",
   "execution_count": 4,
   "id": "c3e2f6bc",
   "metadata": {},
   "outputs": [],
   "source": [
    "#functions of Q1C\n",
    "def question_oneC(x):\n",
    "    return x*np.cos(x)-x**2\n",
    "\n",
    "def df_oneC(x):\n",
    "    return -x*np.sin(x)+np.cos(x)-2*x"
   ]
  },
  {
   "cell_type": "code",
   "execution_count": 5,
   "id": "6dc36624",
   "metadata": {},
   "outputs": [],
   "source": [
    "def newton(f,df,p,tolerance):\n",
    "    x1=p\n",
    "    x2=x1-f(x1)/df(x1)\n",
    "    while abs(x2-x1)>tolerance:\n",
    "        x1=x2\n",
    "        x2=x1-f(x1)/df(x1)\n",
    "    return x2 "
   ]
  },
  {
   "cell_type": "code",
   "execution_count": 6,
   "id": "f8672832",
   "metadata": {},
   "outputs": [
    {
     "name": "stdout",
     "output_type": "stream",
     "text": [
      "1.618033988749989\n",
      "5.6857795260896316\n",
      "0.7390851356007351\n"
     ]
    }
   ],
   "source": [
    "print(newton(question_oneA,df_oneA,1,1e-4))\n",
    "print(newton(question_oneB,df_oneB,5,1e-4))\n",
    "print(newton(question_oneC,df_oneC,1,1e-4))"
   ]
  },
  {
   "cell_type": "code",
   "execution_count": null,
   "id": "9202d16a",
   "metadata": {},
   "outputs": [],
   "source": []
  }
 ],
 "metadata": {
  "kernelspec": {
   "display_name": "Python 3",
   "language": "python",
   "name": "python3"
  },
  "language_info": {
   "codemirror_mode": {
    "name": "ipython",
    "version": 3
   },
   "file_extension": ".py",
   "mimetype": "text/x-python",
   "name": "python",
   "nbconvert_exporter": "python",
   "pygments_lexer": "ipython3",
   "version": "3.8.5"
  }
 },
 "nbformat": 4,
 "nbformat_minor": 5
}
