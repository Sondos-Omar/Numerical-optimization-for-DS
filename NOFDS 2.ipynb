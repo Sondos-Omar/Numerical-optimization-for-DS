{
 "cells": [
  {
   "cell_type": "code",
   "execution_count": 1,
   "id": "5dca9874",
   "metadata": {},
   "outputs": [],
   "source": [
    "import numpy as np\n",
    "import matplotlib.pyplot as plt\n",
    "%matplotlib inline"
   ]
  },
  {
   "cell_type": "code",
   "execution_count": 2,
   "id": "b88d93c2",
   "metadata": {},
   "outputs": [],
   "source": [
    "x = [1,1,2,3,4,5,6,7,8,9,10,11]\n",
    "y = [1,2,3,1,4,5,6,4,7,10,15,9]"
   ]
  },
  {
   "cell_type": "code",
   "execution_count": 3,
   "id": "c2b6a1b1",
   "metadata": {},
   "outputs": [
    {
     "data": {
      "text/plain": [
       "Text(0, 0.5, 'y')"
      ]
     },
     "execution_count": 3,
     "metadata": {},
     "output_type": "execute_result"
    },
    {
     "data": {
      "image/png": "[encoded data removed]",
      "text/plain": [
       "<Figure size 432x288 with 1 Axes>"
      ]
     },
     "metadata": {
      "needs_background": "light"
     },
     "output_type": "display_data"
    }
   ],
   "source": [
    "plt.plot(x,y,'b.')\n",
    "plt.xlabel(\"x\", fontsize=10)\n",
    "plt.ylabel(\"y\", rotation=0, fontsize=10)"
   ]
  },
  {
   "cell_type": "code",
   "execution_count": 4,
   "id": "e2d07f7d",
   "metadata": {},
   "outputs": [],
   "source": [
    "def  calculateCost(theta,x,y):\n",
    "    m = len(y)\n",
    "    \n",
    "    predicted = x.dot(theta)\n",
    "    cost = (1/2*m) * np.sum(np.square(predicted-y))\n",
    "    return cost\n"
   ]
  },
  {
   "cell_type": "code",
   "execution_count": 5,
   "id": "81411e36",
   "metadata": {},
   "outputs": [],
   "source": [
    "def gradient_descent(x,y,theta,rate=0.01,iterations=100):\n",
    "    m = len(y)\n",
    "    costMatrix = np.zeros(iterations)\n",
    "    thetaMatrix = np.zeros((iterations,2))\n",
    "    for it in range(iterations):\n",
    "        \n",
    "        prediction = np.dot(x,theta)\n",
    "        \n",
    "        theta = theta -(1/m)*rate*( x.T.dot((prediction - y)))\n",
    "        thetaMatrix[it,:] =theta.T\n",
    "        costMatrix[it]  = calculateCost(theta,x,y)\n",
    "        \n",
    "    return theta, costMatrix, thetaMatrix"
   ]
  },
  {
   "cell_type": "code",
   "execution_count": 6,
   "id": "9accbd49",
   "metadata": {},
   "outputs": [],
   "source": [
    "x=np.array(x)\n",
    "x=np.reshape(x, (len(x), 1))\n",
    "x=np.array(y)\n",
    "y=np.reshape(y, (len(y), 1))\n"
   ]
  },
  {
   "cell_type": "code",
   "execution_count": 7,
   "id": "9a73636f",
   "metadata": {},
   "outputs": [
    {
     "name": "stdout",
     "output_type": "stream",
     "text": [
      "Theta0:          0.025,\n",
      "Theta1:          0.997\n",
      "Final cost/MSE:  0.015\n"
     ]
    }
   ],
   "source": [
    "rate =0.01\n",
    "iterations = 1000\n",
    "\n",
    "theta = np.random.randn(2,1)\n",
    "\n",
    "X_b = np.c_[np.ones((len(x),1)),x]\n",
    "\n",
    "theta,costMatrix,thetaMatrix = gradient_descent(X_b,y,theta,rate,iterations)\n",
    "\n",
    "\n",
    "print('Theta0:          {:0.3f},\\nTheta1:          {:0.3f}'.format(theta[0][0],theta[1][0]))\n",
    "print('Final cost/MSE:  {:0.3f}'.format(costMatrix[-1]))"
   ]
  },
  {
   "cell_type": "code",
   "execution_count": 9,
   "id": "d6414a8f",
   "metadata": {},
   "outputs": [
    {
     "data": {
      "image/png": "[encoded data removed]",
      "text/plain": [
       "<Figure size 864x576 with 1 Axes>"
      ]
     },
     "metadata": {
      "needs_background": "light"
     },
     "output_type": "display_data"
    }
   ],
   "source": [
    "fig,ax = plt.subplots(figsize=(12,8))\n",
    "\n",
    "ax.set_ylabel('Theta')\n",
    "ax.set_xlabel('Iterations')\n",
    "_=ax.plot(range(iterations),costMatrix,'b.')"
   ]
  },
  {
   "cell_type": "code",
   "execution_count": 10,
   "id": "64e15dcc",
   "metadata": {},
   "outputs": [],
   "source": [
    "import numpy as np\n"
   ]
  },
  {
   "cell_type": "code",
   "execution_count": 11,
   "id": "16709ea2",
   "metadata": {},
   "outputs": [
    {
     "data": {
      "text/plain": [
       "(array([0.09019608, 0.18039216, 0.18039216, 0.29803921, 0.33333333,\n",
       "        0.29803921, 0.45490196, 0.52156863, 0.52156863, 0.45490196]),\n",
       " 78)"
      ]
     },
     "execution_count": 11,
     "metadata": {},
     "output_type": "execute_result"
    }
   ],
   "source": [
    "\n",
    "A=np.array([\n",
    "    [4  ,-1 ,-1 ,0  ,0  ,0  ,0  ,0  ,0  ,0],\n",
    "    [-1 ,5  ,-1 ,-1 ,-1 ,0  ,0  ,0  ,0  ,0],\n",
    "    [-1 ,-1 ,5  ,0  ,-1 ,-1 ,0  ,0  ,0  ,0],\n",
    "    [0  ,-1 ,0  ,5  ,-1 ,0  ,-1 ,-1 ,0  ,0],\n",
    "    [0  ,-1 ,-1 ,-1 ,6  ,-1 ,0  ,-1 ,-1 ,0],\n",
    "    [0  ,0  ,-1 ,0  ,-1 ,5  ,0  ,0  ,-1 ,-1],\n",
    "    [0  ,0  ,0  ,-1 ,0  ,0  ,4  ,-1 ,0  ,0],\n",
    "    [0  ,0  ,0  ,-1 ,-1 ,0  ,-1 ,5  ,-1 ,0],\n",
    "    [0  ,0  ,0  ,0  ,-1 ,-1 ,0  ,-1 ,5 ,-1],\n",
    "    [0  ,0  ,0  ,0  ,0  ,-1 ,0  ,0  ,-1 ,4]\n",
    "])\n",
    "b=np.array([0,0,0,0,0,0,1,1,1,1])\n",
    "from numpy.linalg import inv, norm\n",
    "def jacobi(A,b,tol):\n",
    "    x1=np.zeros_like(b)\n",
    "    D=np.diag(A)\n",
    "    LplusU=A-np.diag(D)\n",
    "    x2=(b-LplusU@(x1))/D\n",
    "    i=0\n",
    "    while ((norm(x2-x1,2)/norm(x2,2))> tol):\n",
    "        x1=np.copy(x2)\n",
    "        x2=(b-LplusU@(x1))/D\n",
    "        i+=1   \n",
    "    return x2,i\n",
    "jacobi(A,b,1e-9)"
   ]
  },
  {
   "cell_type": "code",
   "execution_count": 12,
   "id": "5e0fd167",
   "metadata": {},
   "outputs": [
    {
     "name": "stdout",
     "output_type": "stream",
     "text": [
      "[[  60.   110.   130.   409.1]\n",
      " [  60.   117.   145.   479. ]\n",
      " [  60.   103.   135.   340. ]\n",
      " [  45.   109.   175.   282.4]\n",
      " [  45.   117.   148.   406. ]\n",
      " [  60.   102.   127.   300.5]\n",
      " [  60.   110.   136.   374. ]\n",
      " [  45.   104.   134.   253.3]\n",
      " [  30.   109.   133.   195.1]\n",
      " [  60.    98.   124.   269. ]\n",
      " [  60.   103.   147.   329.3]\n",
      " [  60.   100.   120.   250.7]\n",
      " [  60.   106.   128.   345.3]\n",
      " [  60.   104.   132.   379.3]\n",
      " [  60.    98.   123.   275. ]\n",
      " [  60.    98.   120.   215.2]\n",
      " [  60.   100.   120.   300. ]\n",
      " [  45.    90.   112.     nan]\n",
      " [  60.   103.   123.   323. ]\n",
      " [  45.    97.   125.   243. ]\n",
      " [  60.   108.   131.   364.2]\n",
      " [  45.   100.   119.   282. ]\n",
      " [  60.   130.   101.   300. ]\n",
      " [  45.   105.   132.   246. ]\n",
      " [  60.   102.   126.   334.5]\n",
      " [  60.   100.   120.   250. ]\n",
      " [  60.    92.   118.   241. ]\n",
      " [  60.   103.   132.     nan]\n",
      " [  60.   100.   132.   280. ]\n",
      " [  60.   102.   129.   380.3]\n",
      " [  60.    92.   115.   243. ]\n",
      " [  45.    90.   112.   180.1]\n",
      " [  60.   101.   124.   299. ]\n",
      " [  60.    93.   113.   223. ]\n",
      " [  60.   107.   136.   361. ]\n",
      " [  60.   114.   140.   415. ]\n",
      " [  60.   102.   127.   300.5]\n",
      " [  60.   100.   120.   300.1]\n",
      " [  60.   100.   120.   300. ]\n",
      " [  45.   104.   129.   266. ]\n",
      " [  45.    90.   112.   180.1]\n",
      " [  60.    98.   126.   286. ]\n",
      " [  60.   100.   122.   329.4]\n",
      " [  60.   111.   138.   400. ]\n",
      " [  60.   111.   131.   397. ]\n",
      " [  60.    99.   119.   273. ]\n",
      " [  60.   109.   153.   387.6]\n",
      " [  45.   111.   136.   300. ]\n",
      " [  45.   108.   129.   298. ]\n",
      " [  60.   111.   139.   397.6]\n",
      " [  60.   107.   136.   380.2]\n",
      " [  80.   123.   146.   643.1]\n",
      " [  60.   106.   130.   263. ]\n",
      " [  60.   118.   151.   486. ]\n",
      " [  30.   136.   175.   238. ]\n",
      " [  60.   121.   146.   450.7]\n",
      " [  60.   118.   121.   413. ]\n",
      " [  45.   115.   144.   305. ]\n",
      " [  20.   153.   172.   226.4]\n",
      " [  45.   123.   152.   321. ]\n",
      " [ 210.   108.   160.  1376. ]\n",
      " [ 160.   110.   137.  1034.4]\n",
      " [ 160.   109.   135.   853. ]\n",
      " [  45.   118.   141.   341. ]\n",
      " [  20.   110.   130.   131.4]\n",
      " [ 180.    90.   130.   800.4]\n",
      " [ 150.   105.   135.   873.4]\n",
      " [ 150.   107.   130.   816. ]\n",
      " [  20.   106.   136.   110.4]\n",
      " [ 300.   108.   143.  1500.2]\n",
      " [ 150.    97.   129.  1115. ]\n",
      " [  60.   109.   153.   387.6]\n",
      " [  90.   100.   127.   700. ]\n",
      " [ 150.    97.   127.   953.2]\n",
      " [  45.   114.   146.   304. ]\n",
      " [  90.    98.   125.   563.2]\n",
      " [  45.   105.   134.   251. ]\n",
      " [  45.   110.   141.   300. ]\n",
      " [ 120.   100.   130.   500.4]\n",
      " [ 270.   100.   131.  1729. ]\n",
      " [  30.   159.   182.   319.2]\n",
      " [  45.   149.   169.   344. ]\n",
      " [  30.   103.   139.   151.1]\n",
      " [ 120.   100.   130.   500. ]\n",
      " [  45.   100.   120.   225.3]\n",
      " [  30.   151.   170.   300.1]\n",
      " [  45.   102.   136.   234. ]\n",
      " [ 120.   100.   157.  1000.1]\n",
      " [  45.   129.   103.   242. ]\n",
      " [  20.    83.   107.    50.3]\n",
      " [ 180.   101.   127.   600.1]\n",
      " [  45.   107.   137.     nan]\n",
      " [  30.    90.   107.   105.3]\n",
      " [  15.    80.   100.    50.5]\n",
      " [  20.   150.   171.   127.4]\n",
      " [  20.   151.   168.   229.4]\n",
      " [  30.    95.   128.   128.2]\n",
      " [  25.   152.   168.   244.2]\n",
      " [  30.   109.   131.   188.2]\n",
      " [  90.    93.   124.   604.1]\n",
      " [  20.    95.   112.    77.7]\n",
      " [  90.    90.   110.   500. ]\n",
      " [  90.    90.   100.   500. ]\n",
      " [  90.    90.   100.   500.4]\n",
      " [  30.    92.   108.    92.7]\n",
      " [  30.    93.   128.   124. ]\n",
      " [ 180.    90.   120.   800.3]\n",
      " [  30.    90.   120.    86.2]\n",
      " [  90.    90.   120.   500.3]\n",
      " [ 210.   137.   184.  1860.4]\n",
      " [  60.   102.   124.   325.2]\n",
      " [  45.   107.   124.   275. ]\n",
      " [  15.   124.   139.   124.2]\n",
      " [  45.   100.   120.   225.3]\n",
      " [  60.   108.   131.   367.6]\n",
      " [  60.   108.   151.   351.7]\n",
      " [  60.   116.   141.   443. ]\n",
      " [  60.    97.   122.   277.4]\n",
      " [  60.   105.   125.     nan]\n",
      " [  60.   103.   124.   332.7]\n",
      " [  30.   112.   137.   193.9]\n",
      " [  45.   100.   120.   100.7]\n",
      " [  60.   119.   169.   336.7]\n",
      " [  60.   107.   127.   344.9]\n",
      " [  60.   111.   151.   368.5]\n",
      " [  60.    98.   122.   271. ]\n",
      " [  60.    97.   124.   275.3]\n",
      " [  60.   109.   127.   382. ]\n",
      " [  90.    99.   125.   466.4]\n",
      " [  60.   114.   151.   384. ]\n",
      " [  60.   104.   134.   342.5]\n",
      " [  60.   107.   138.   357.5]\n",
      " [  60.   103.   133.   335. ]\n",
      " [  60.   106.   132.   327.5]\n",
      " [  60.   103.   136.   339. ]\n",
      " [  20.   136.   156.   189. ]\n",
      " [  45.   117.   143.   317.7]\n",
      " [  45.   115.   137.   318. ]\n",
      " [  45.   113.   138.   308. ]\n",
      " [  20.   141.   162.   222.4]\n",
      " [  60.   108.   135.   390. ]\n",
      " [  60.    97.   127.     nan]\n",
      " [  45.   100.   120.   250.4]\n",
      " [  45.   122.   149.   335.4]\n",
      " [  60.   136.   170.   470.2]\n",
      " [  45.   106.   126.   270.8]\n",
      " [  60.   107.   136.   400. ]\n",
      " [  60.   112.   146.   361.9]\n",
      " [  30.   103.   127.   185. ]\n",
      " [  60.   110.   150.   409.4]\n",
      " [  60.   106.   134.   343. ]\n",
      " [  60.   109.   129.   353.2]\n",
      " [  60.   109.   138.   374. ]\n",
      " [  30.   150.   167.   275.8]\n",
      " [  60.   105.   128.   328. ]\n",
      " [  60.   111.   151.   368.5]\n",
      " [  60.    97.   131.   270.4]\n",
      " [  60.   100.   120.   270.4]\n",
      " [  60.   114.   150.   382.8]\n",
      " [  30.    80.   120.   240.9]\n",
      " [  30.    85.   120.   250.4]\n",
      " [  45.    90.   130.   260.4]\n",
      " [  45.    95.   130.   270. ]\n",
      " [  45.   100.   140.   280.9]\n",
      " [  60.   105.   140.   290.8]\n",
      " [  60.   110.   145.   300.4]\n",
      " [  60.   115.   145.   310.2]\n",
      " [  75.   120.   150.   320.4]\n",
      " [  75.   125.   150.   330.4]]\n"
     ]
    }
   ],
   "source": [
    "import numpy as np\n",
    "my_array=np.genfromtxt('dataSONDOS.csv',delimiter=',', skip_header=1)\n",
    "print(my_array)"
   ]
  },
  {
   "cell_type": "code",
   "execution_count": 13,
   "id": "6ab49b07",
   "metadata": {},
   "outputs": [
    {
     "data": {
      "text/plain": [
       "array([130., 145., 135., 175., 148., 127., 136., 134., 133., 124., 147.,\n",
       "       120., 128., 132., 123., 120., 120., 112., 123., 125., 131., 119.,\n",
       "       101., 132., 126., 120., 118., 132., 132., 129., 115., 112., 124.,\n",
       "       113., 136., 140., 127., 120., 120., 129., 112., 126., 122., 138.,\n",
       "       131., 119., 153., 136., 129., 139., 136., 146., 130., 151., 175.,\n",
       "       146., 121., 144., 172., 152., 160., 137., 135., 141., 130., 130.,\n",
       "       135., 130., 136., 143., 129., 153., 127., 127., 146., 125., 134.,\n",
       "       141., 130., 131., 182., 169., 139., 130., 120., 170., 136., 157.,\n",
       "       103., 107., 127., 137., 107., 100., 171., 168., 128., 168., 131.,\n",
       "       124., 112., 110., 100., 100., 108., 128., 120., 120., 120., 184.,\n",
       "       124., 124., 139., 120., 131., 151., 141., 122., 125., 124., 137.,\n",
       "       120., 169., 127., 151., 122., 124., 127., 125., 151., 134., 138.,\n",
       "       133., 132., 136., 156., 143., 137., 138., 162., 135., 127., 120.,\n",
       "       149., 170., 126., 136., 146., 127., 150., 134., 129., 138., 167.,\n",
       "       128., 151., 131., 120., 150., 120., 120., 130., 130., 140., 140.,\n",
       "       145., 145., 150., 150.])"
      ]
     },
     "execution_count": 13,
     "metadata": {},
     "output_type": "execute_result"
    }
   ],
   "source": [
    "my_array[ : , 2]"
   ]
  },
  {
   "cell_type": "code",
   "execution_count": 14,
   "id": "5028023d",
   "metadata": {},
   "outputs": [
    {
     "data": {
      "image/png": "[encoded data removed]",
      "text/plain": [
       "<Figure size 432x288 with 1 Axes>"
      ]
     },
     "metadata": {
      "needs_background": "light"
     },
     "output_type": "display_data"
    }
   ],
   "source": [
    "import matplotlib.pyplot as plt\n",
    "\n",
    "x = [1,2,3,4,5,6,7,8,9,10]\n",
    "y = [1,2,3,4,5,6,7,8,9,10]\n",
    "\n",
    "plt.scatter(x, y)\n",
    "plt.show()"
   ]
  },
  {
   "cell_type": "code",
   "execution_count": 15,
   "id": "c371263c",
   "metadata": {},
   "outputs": [
    {
     "data": {
      "text/plain": [
       "[<matplotlib.lines.Line2D at 0x265ccc35fd0>]"
      ]
     },
     "execution_count": 15,
     "metadata": {},
     "output_type": "execute_result"
    },
    {
     "data": {
      "image/png": "[encoded data removed]",
      "text/plain": [
       "<Figure size 432x288 with 1 Axes>"
      ]
     },
     "metadata": {
      "needs_background": "light"
     },
     "output_type": "display_data"
    }
   ],
   "source": [
    "%matplotlib inline\n",
    "import matplotlib.pyplot as plt\n",
    "\n",
    "plt.plot(x, y, linestyle='-')"
   ]
  },
  {
   "cell_type": "code",
   "execution_count": null,
   "id": "1e0d08d8",
   "metadata": {},
   "outputs": [],
   "source": []
  },
  {
   "cell_type": "code",
   "execution_count": null,
   "id": "0360c92a",
   "metadata": {},
   "outputs": [],
   "source": []
  }
 ],
 "metadata": {
  "kernelspec": {
   "display_name": "Python 3 (ipykernel)",
   "language": "python",
   "name": "python3"
  },
  "language_info": {
   "codemirror_mode": {
    "name": "ipython",
    "version": 3
   },
   "file_extension": ".py",
   "mimetype": "text/x-python",
   "name": "python",
   "nbconvert_exporter": "python",
   "pygments_lexer": "ipython3",
   "version": "3.8.5"
  }
 },
 "nbformat": 4,
 "nbformat_minor": 5
}
