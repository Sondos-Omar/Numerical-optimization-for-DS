{
 "cells": [
  {
   "cell_type": "code",
   "execution_count": 23,
   "id": "93ee3240",
   "metadata": {},
   "outputs": [],
   "source": [
    "import numpy as np\n",
    "import matplotlib.pyplot as plt\n",
    "import pandas as pd\n",
    "%matplotlib inline"
   ]
  },
  {
   "cell_type": "code",
   "execution_count": 24,
   "id": "9aa4ba23",
   "metadata": {},
   "outputs": [],
   "source": [
    "RegData=np.genfromtxt('RegData.csv',delimiter=',')\n"
   ]
  },
  {
   "cell_type": "code",
   "execution_count": 25,
   "id": "f17510cf",
   "metadata": {},
   "outputs": [],
   "source": [
    "X=RegData[ : , 0]\n",
    "Y=RegData[ : , 1]"
   ]
  },
  {
   "cell_type": "code",
   "execution_count": null,
   "id": "4e3c632e",
   "metadata": {},
   "outputs": [],
   "source": []
  },
  {
   "cell_type": "code",
   "execution_count": 27,
   "id": "44f34756",
   "metadata": {},
   "outputs": [],
   "source": [
    "def my_adagrad(xOriginal,yOriginal,epochs,batches=1,alpha=0.1,gamma=0.1,epsilon=1e-6):\n",
    "  yOriginal = yOriginal.reshape((-1,1))\n",
    "  theta = np.random.random(size=(xOriginal.shape[1]+1,1))\n",
    "  theta_log = []\n",
    "  loss =[]\n",
    "  vt = np.zeros((xOriginal.shape[1]+1,1))\n",
    "  m = len(xOriginal)\n",
    "  b = batch_size\n",
    "  steps = m//b if (m%b)==0 else (m//b)+1\n",
    "  for _ in range(epochs):\n",
    "    for step in range(steps):\n",
    "      x_batch = xOriginal[step*b:(step+1)*b]\n",
    "      y_batch = yOriginal[step*b:(step+1)*b]\n",
    "      x_batch = np.concatenate((np.ones((x_batch.shape[0],1)),x_batch),axis=1)\n",
    "      h = x_batch @ theta\n",
    "      \n",
    "      loss.append((1/(2*b))*np.sum(np.square(h-y_batch)))\n",
    "\n",
    "      vt = vt + np.square((1/b)*(x_batch.T@(h-y_batch)))\n",
    "      theta = theta - alpha*(1/(np.sqrt(vt)+epsilon)) * (1/b)*(x_batch.T@(h-y_batch))\n",
    "      theta_log.append(theta)\n",
    "  loss = np.array(loss)\n",
    "  theta_log = np.array(theta_log)\n",
    "  return theta ,loss,theta_log"
   ]
  },
  {
   "cell_type": "code",
   "execution_count": 28,
   "id": "00749295",
   "metadata": {},
   "outputs": [
    {
     "ename": "IndexError",
     "evalue": "tuple index out of range",
     "output_type": "error",
     "traceback": [
      "\u001b[1;31m---------------------------------------------------------------------------\u001b[0m",
      "\u001b[1;31mIndexError\u001b[0m                                Traceback (most recent call last)",
      "\u001b[1;32m<ipython-input-28-a34ce785a962>\u001b[0m in \u001b[0;36m<module>\u001b[1;34m\u001b[0m\n\u001b[1;32m----> 1\u001b[1;33m \u001b[0mmy_adagrad\u001b[0m\u001b[1;33m(\u001b[0m\u001b[0mX\u001b[0m\u001b[1;33m,\u001b[0m\u001b[0mY\u001b[0m\u001b[1;33m,\u001b[0m\u001b[1;36m100\u001b[0m\u001b[1;33m,\u001b[0m\u001b[1;36m1\u001b[0m\u001b[1;33m,\u001b[0m\u001b[0malpha\u001b[0m\u001b[1;33m=\u001b[0m\u001b[1;36m0.1\u001b[0m\u001b[1;33m,\u001b[0m\u001b[0mgamma\u001b[0m\u001b[1;33m=\u001b[0m\u001b[1;36m0.1\u001b[0m\u001b[1;33m,\u001b[0m\u001b[0mepsilon\u001b[0m\u001b[1;33m=\u001b[0m\u001b[1;36m1e-6\u001b[0m\u001b[1;33m)\u001b[0m\u001b[1;33m\u001b[0m\u001b[1;33m\u001b[0m\u001b[0m\n\u001b[0m",
      "\u001b[1;32m<ipython-input-27-fce73675ab78>\u001b[0m in \u001b[0;36mmy_adagrad\u001b[1;34m(xOriginal, yOriginal, epochs, batches, alpha, gamma, epsilon)\u001b[0m\n\u001b[0;32m      1\u001b[0m \u001b[1;32mdef\u001b[0m \u001b[0mmy_adagrad\u001b[0m\u001b[1;33m(\u001b[0m\u001b[0mxOriginal\u001b[0m\u001b[1;33m,\u001b[0m\u001b[0myOriginal\u001b[0m\u001b[1;33m,\u001b[0m\u001b[0mepochs\u001b[0m\u001b[1;33m,\u001b[0m\u001b[0mbatches\u001b[0m\u001b[1;33m=\u001b[0m\u001b[1;36m1\u001b[0m\u001b[1;33m,\u001b[0m\u001b[0malpha\u001b[0m\u001b[1;33m=\u001b[0m\u001b[1;36m0.1\u001b[0m\u001b[1;33m,\u001b[0m\u001b[0mgamma\u001b[0m\u001b[1;33m=\u001b[0m\u001b[1;36m0.1\u001b[0m\u001b[1;33m,\u001b[0m\u001b[0mepsilon\u001b[0m\u001b[1;33m=\u001b[0m\u001b[1;36m1e-6\u001b[0m\u001b[1;33m)\u001b[0m\u001b[1;33m:\u001b[0m\u001b[1;33m\u001b[0m\u001b[1;33m\u001b[0m\u001b[0m\n\u001b[0;32m      2\u001b[0m   \u001b[0myOriginal\u001b[0m \u001b[1;33m=\u001b[0m \u001b[0myOriginal\u001b[0m\u001b[1;33m.\u001b[0m\u001b[0mreshape\u001b[0m\u001b[1;33m(\u001b[0m\u001b[1;33m(\u001b[0m\u001b[1;33m-\u001b[0m\u001b[1;36m1\u001b[0m\u001b[1;33m,\u001b[0m\u001b[1;36m1\u001b[0m\u001b[1;33m)\u001b[0m\u001b[1;33m)\u001b[0m\u001b[1;33m\u001b[0m\u001b[1;33m\u001b[0m\u001b[0m\n\u001b[1;32m----> 3\u001b[1;33m   \u001b[0mtheta\u001b[0m \u001b[1;33m=\u001b[0m \u001b[0mnp\u001b[0m\u001b[1;33m.\u001b[0m\u001b[0mrandom\u001b[0m\u001b[1;33m.\u001b[0m\u001b[0mrandom\u001b[0m\u001b[1;33m(\u001b[0m\u001b[0msize\u001b[0m\u001b[1;33m=\u001b[0m\u001b[1;33m(\u001b[0m\u001b[0mxOriginal\u001b[0m\u001b[1;33m.\u001b[0m\u001b[0mshape\u001b[0m\u001b[1;33m[\u001b[0m\u001b[1;36m1\u001b[0m\u001b[1;33m]\u001b[0m\u001b[1;33m+\u001b[0m\u001b[1;36m1\u001b[0m\u001b[1;33m,\u001b[0m\u001b[1;36m1\u001b[0m\u001b[1;33m)\u001b[0m\u001b[1;33m)\u001b[0m\u001b[1;33m\u001b[0m\u001b[1;33m\u001b[0m\u001b[0m\n\u001b[0m\u001b[0;32m      4\u001b[0m   \u001b[0mtheta_log\u001b[0m \u001b[1;33m=\u001b[0m \u001b[1;33m[\u001b[0m\u001b[1;33m]\u001b[0m\u001b[1;33m\u001b[0m\u001b[1;33m\u001b[0m\u001b[0m\n\u001b[0;32m      5\u001b[0m   \u001b[0mloss\u001b[0m \u001b[1;33m=\u001b[0m\u001b[1;33m[\u001b[0m\u001b[1;33m]\u001b[0m\u001b[1;33m\u001b[0m\u001b[1;33m\u001b[0m\u001b[0m\n",
      "\u001b[1;31mIndexError\u001b[0m: tuple index out of range"
     ]
    }
   ],
   "source": [
    "my_adagrad(X,Y,100,1,alpha=0.1,gamma=0.1,epsilon=1e-6)\n"
   ]
  },
  {
   "cell_type": "code",
   "execution_count": 2,
   "id": "e1bf32e8",
   "metadata": {},
   "outputs": [],
   "source": []
  },
  {
   "cell_type": "code",
   "execution_count": null,
   "id": "c205d99d",
   "metadata": {},
   "outputs": [],
   "source": [
    "def rmsprop(x_data,y_data,epochs,batch_size=4,alpha=0.5,beta=0.1,epsilon=1e-6):\n",
    "  y_data = y_data.reshape((-1,1))\n",
    "  theta = np.random.random(size=(x_data.shape[1]+1,1))\n",
    "  theta_log = []\n",
    "  loss =[]\n",
    "  vt = np.zeros((x_data.shape[1]+1,1))\n",
    "  m = len(x_data)\n",
    "  b = batch_size\n",
    "  steps = m//b if (m%b)==0 else (m//b)+1\n",
    "  for _ in range(epochs):\n",
    "    for step in range(steps):\n",
    "      x_batch = x_data[step*b:(step+1)*b]\n",
    "      y_batch = y_data[step*b:(step+1)*b]\n",
    "      x_batch = np.concatenate((np.ones((x_batch.shape[0],1)),x_batch),axis=1)\n",
    "      h = x_batch @ theta\n",
    "      \n",
    "      loss.append((1/(2*b))*np.sum(np.square(h-y_batch)))\n",
    "\n",
    "      vt = beta*vt + (1-beta) * np.square((1/b)*(x_batch.T@(h-y_batch)))\n",
    "      theta = theta - alpha*(1/(np.sqrt(vt)+epsilon)) * (1/b)*(x_batch.T@(h-y_batch))\n",
    "      theta_log.append(theta)\n",
    "  loss = np.array(loss)\n",
    "  theta_log = np.array(theta_log)\n",
    "  return theta ,loss,theta_log"
   ]
  },
  {
   "cell_type": "code",
   "execution_count": null,
   "id": "dd2040d6",
   "metadata": {},
   "outputs": [],
   "source": []
  },
  {
   "cell_type": "code",
   "execution_count": 6,
   "id": "cf8763b3",
   "metadata": {},
   "outputs": [],
   "source": []
  },
  {
   "cell_type": "code",
   "execution_count": null,
   "id": "5b19f327",
   "metadata": {},
   "outputs": [],
   "source": [
    "def adam(x_data,y_data,epochs,batch_size=4,alpha=0.001,beta_1=0.9,beta_2=0.99,epsilon=1e-8):\n",
    "  y_data = y_data.reshape((-1,1))\n",
    "  theta = np.random.random(size=(x_data.shape[1]+1,1))\n",
    "  theta_log = []\n",
    "  loss =[]\n",
    "  t = 1 \n",
    "  mt = np.zeros((x_data.shape[1]+1,1))\n",
    "  vt = np.zeros((x_data.shape[1]+1,1))\n",
    "  m = len(x_data)\n",
    "  b = batch_size\n",
    "  steps = m//b if (m%b)==0 else (m//b)+1\n",
    "  for _ in range(epochs):\n",
    "    for step in range(steps):\n",
    "      x_batch = x_data[step*b:(step+1)*b]\n",
    "      y_batch = y_data[step*b:(step+1)*b]\n",
    "      x_batch = np.concatenate((np.ones((x_batch.shape[0],1)),x_batch),axis=1)\n",
    "      h = x_batch @ theta\n",
    "      \n",
    "      loss.append((1/(2*b))*np.sum(np.square(h-y_batch)))\n",
    "      mt = beta_1 * mt + (1 - beta_1) * (1/b)*(x_batch.T@(h-y_batch))\n",
    "      vt = beta_2 * vt + (1 - beta_2) * np.square((1/b)*(x_batch.T@(h-y_batch)))\n",
    "      mt = mt /(1-beta_1**t)\n",
    "      vt = vt /(1-beta_2**t)\n",
    "      theta = theta - alpha*(1/(np.sqrt(vt)+epsilon)) * mt \n",
    "\n",
    "      t+=1\n",
    "      theta_log.append(theta)\n",
    "  loss = np.array(loss)\n",
    "  theta_log = np.array(theta_log)\n",
    "  return theta ,loss,theta_log"
   ]
  }
 ],
 "metadata": {
  "kernelspec": {
   "display_name": "Python 3",
   "language": "python",
   "name": "python3"
  },
  "language_info": {
   "codemirror_mode": {
    "name": "ipython",
    "version": 3
   },
   "file_extension": ".py",
   "mimetype": "text/x-python",
   "name": "python",
   "nbconvert_exporter": "python",
   "pygments_lexer": "ipython3",
   "version": "3.8.5"
  }
 },
 "nbformat": 4,
 "nbformat_minor": 5
}
